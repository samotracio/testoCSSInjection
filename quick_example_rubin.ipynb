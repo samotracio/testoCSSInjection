{
 "cells": [
  {
   "cell_type": "code",
   "execution_count": 1,
   "id": "5cbb268a-47b8-4f76-8f3c-fbe90f1efadf",
   "metadata": {
    "execution": {
     "iopub.execute_input": "2025-09-15T22:59:32.273018Z",
     "iopub.status.busy": "2025-09-15T22:59:32.272662Z",
     "iopub.status.idle": "2025-09-15T22:59:33.533482Z",
     "shell.execute_reply": "2025-09-15T22:59:33.532880Z",
     "shell.execute_reply.started": "2025-09-15T22:59:32.272994Z"
    }
   },
   "outputs": [],
   "source": [
    "from skykatana import SkyMaskPipe   # the Skykatana code\n",
    "import healpy as hp, healsparse as hsp, pandas as pd\n",
    "from mocpy import MOC, WCS\n",
    "import numpy as np, matplotlib.pyplot as plt\n",
    "from matplotlib.patches import Polygon\n",
    "from astropy.coordinates import Angle, SkyCoord\n",
    "import astropy.units as u\n",
    "from functools import partial\n",
    "import lsdb                        # if pixelating source catalogs in HATS format"
   ]
  },
  {
   "cell_type": "markdown",
   "id": "41b288bc-b35f-4495-9793-2b8e75159065",
   "metadata": {},
   "source": [
    "Excecute the cell below to inject some styles used thougout this notebook"
   ]
  },
  {
   "cell_type": "code",
   "execution_count": 9,
   "id": "935aed9b-b604-47db-803b-81f196fded88",
   "metadata": {
    "execution": {
     "iopub.execute_input": "2025-09-15T23:10:55.526555Z",
     "iopub.status.busy": "2025-09-15T23:10:55.526278Z",
     "iopub.status.idle": "2025-09-15T23:10:55.531619Z",
     "shell.execute_reply": "2025-09-15T23:10:55.531122Z",
     "shell.execute_reply.started": "2025-09-15T23:10:55.526534Z"
    }
   },
   "outputs": [
    {
     "data": {
      "text/html": [
       "<style>\n",
       ".bluepill { background-color:#2196f3;\n",
       "            color:white; padding:2px 6px;\n",
       "            border-radius:6px; border:1px solid #ffcc00;\n",
       "}\n",
       ".met { background-color:#27333d;\n",
       "       color:#dedb8e;\n",
       "       padding:3px 3px; border:1px solid #4e7380;\n",
       "       border-radius:6px;\n",
       "}\n",
       ".sc { font-variant:small-caps; font-weight:bold }\n",
       ".note { \n",
       "    display:inline-block;\n",
       "    background-color:#175082;\n",
       "    color:white;\n",
       "    padding:6px;\n",
       "    border-radius:6px;\n",
       "    font-size:1em;\n",
       "}\n",
       ".callout {\n",
       "    border-left: 6px solid #636363;\n",
       "    border-right: 6px solid #636363;\n",
       "    border-radius: 6px;\n",
       "    background: rgba(40,40,40,0.8);  \n",
       "    padding: 8px 16px;  \n",
       "    font-size: 1em; \n",
       "}\n",
       ".st {\n",
       "    color: rgb(255, 255, 255,0.99);\n",
       "    padding: 0px 8px;\n",
       "    font-weight: bold;\n",
       "    border-radius:12px; border:1px solid rgb(247, 94, 94,0.99)\n",
       "}\n",
       ".icode {\n",
       "    font-familiy: monospaced;\n",
       "    color: rgb(145, 208, 93,0.99);}\n",
       "</style>\n"
      ],
      "text/plain": [
       "<IPython.core.display.HTML object>"
      ]
     },
     "metadata": {},
     "output_type": "display_data"
    }
   ],
   "source": [
    "%%html\n",
    "<style>\n",
    ".bluepill { background-color:#2196f3;\n",
    "            color:white; padding:2px 6px;\n",
    "            border-radius:6px; border:1px solid #ffcc00;\n",
    "}\n",
    ".met { background-color:#27333d;\n",
    "       color:#dedb8e;\n",
    "       padding:3px 3px; border:1px solid #4e7380;\n",
    "       border-radius:6px;\n",
    "}\n",
    ".sc { font-variant:small-caps; font-weight:bold }\n",
    ".note { \n",
    "    display:inline-block;\n",
    "    background-color:#175082;\n",
    "    color:white;\n",
    "    padding:6px;\n",
    "    border-radius:6px;\n",
    "    font-size:1em;\n",
    "}\n",
    ".callout {\n",
    "    border-left: 6px solid #636363;\n",
    "    border-right: 6px solid #636363;\n",
    "    border-radius: 6px;\n",
    "    background: rgba(40,40,40,0.8);  \n",
    "    padding: 8px 16px;  \n",
    "    font-size: 1em; \n",
    "}\n",
    ".st {\n",
    "    color: rgb(255, 255, 255,0.99);\n",
    "    padding: 0px 8px;\n",
    "    font-weight: bold;\n",
    "    border-radius:12px; border:1px solid rgb(247, 94, 94,0.99)\n",
    "}\n",
    ".icode {\n",
    "    font-familiy: monospaced;\n",
    "    color: rgb(145, 208, 93,0.99);}\n",
    "</style>"
   ]
  },
  {
   "cell_type": "markdown",
   "id": "ddb32bc3-37b2-463a-b440-401d7bd7a6e5",
   "metadata": {},
   "source": [
    "# Creating Star Masks for Rubin in RSP with Skykatana\n",
    "-----------------\n",
    "Starting from an input catalog of sources, a list of geometric shapes, or any healsparse map, <span class=\"sc\">Skykatana</span> can create a pixelized mask in healsparse format, excluding areas due to various effects such as bright stars, patches with low depth, extended sources, etc. <span class=\"sc\">Skykatana</span> is also designed to create star masks on-demand in the Rubin Science Platform over thousands of deg<sup>2</sup> in just a few minutes with very limited memory resources, and even intersect masks from different surveys.\n",
    "\n",
    "Basic usage: \n",
    "* <span class=\"met\">build_foot_mask(), build_patch_mask(), build_circle_mask()</span>, etc. are used to produce individual masks <div style=\"height:0.5em;\"></div>\n",
    "* <span class=\"met\">combine()</span> to merge the maps create above into a \"final\" mask <div style=\"height:0.5em;\"></div>\n",
    "* <span class=\"met\">plot()</span> can quickly visualize a mask by plotting randoms, make zooms and overplot stars <div style=\"height:0.5em;\"></div>\n",
    "* <span class=\"met\">plot_moc</span> to visualize a MOC version of a mask, with accurrate coordinate projections <div style=\"height:0.5em;\"></div>\n",
    "* <span class=\"met\">makerans</span> to generate randoms over any mask <div style=\"height:0.5em;\"></div>\n",
    "* <span class=\"met\">apply</span> to cut out sources outside of any given mask\n",
    "\n",
    "When pixelating an input catalog of sources, <span class=\"sc\">Skykatana</span>  accepts a pandas daframe, any data format readable by astropy, or a HATS catalog. In the latter case, pixelization can be distributed across workers to handle catalogs larger than available memory, such as Rubin.\n",
    "\n",
    "For creating bright star masks, <span class=\"sc\">Skykatana</span> has special methods to query and pixelate large online catalogs in HATS format (such as Gaia), that work in systems with limited memory resources.\n",
    "\n",
    "Masks and their metadata are stored as **stages** in a **pipeline** class object that can be saved to disk\n",
    "<br>\n",
    "<div class=\"note\">This notebook shows how to produce a mask for Vera Rubin data due to bright stars, by querying Gaia sources on-demand, calculating exclusion radii and pixelating circles. It is meant to be run in the Rubin Science Platform, although it will work anywhere as long as the catalog of stars being queried is available in HATS/LSDB format</div>"
   ]
  },
  {
   "cell_type": "markdown",
   "id": "997b6b55-5c2c-4014-8b12-8751e3529bb3",
   "metadata": {},
   "source": [
    "## 1. Define search area and create pipeline"
   ]
  },
  {
   "cell_type": "markdown",
   "id": "13a04075-bc49-4954-8a7f-a7bf52581452",
   "metadata": {},
   "source": [
    "<div class='callout'>First we have to define a seach area where to look for stars. While it can be any stage or boolean map, in Rubin it will be most likely some property map for example of coverage in a given band or total exposure time. In the following example, we create a fake search area and store it in the <span class='st'>propmask</span> stage.</div>"
   ]
  },
  {
   "cell_type": "code",
   "execution_count": 17,
   "id": "51163a65-c1cf-47b9-b2ff-04b4de5b85b2",
   "metadata": {
    "execution": {
     "iopub.execute_input": "2025-09-15T18:50:50.791367Z",
     "iopub.status.busy": "2025-09-15T18:50:50.791084Z",
     "iopub.status.idle": "2025-09-15T18:50:51.063991Z",
     "shell.execute_reply": "2025-09-15T18:50:51.063568Z",
     "shell.execute_reply.started": "2025-09-15T18:50:50.791346Z"
    }
   },
   "outputs": [],
   "source": [
    "# Create the MOC for a rectangular zone in the sky and get its pixels\n",
    "ord_sparse   = 12\n",
    "ord_coverage = 5 \n",
    "moc = MOC.from_zone(SkyCoord([[237, -18], [320, 2]], unit=\"deg\"), max_depth=ord_sparse)\n",
    "pixels = moc.flatten().astype(np.int64)\n",
    "# Create empty map and update its pixels\n",
    "mapbool = hsp.HealSparseMap.make_empty(2**ord_coverage, 2**ord_sparse, dtype=np.bool_)\n",
    "mapbool.update_values_pix(pixels, True)\n",
    "# Instantiate the pipline and store in the propmask stage\n",
    "mkp = SkyMaskPipe(order_out=15)\n",
    "mkp.propmask = mapbool.as_bit_packed_map()"
   ]
  },
  {
   "cell_type": "markdown",
   "id": "b2ba2278-c36f-483e-b64f-edd6fbdd4585",
   "metadata": {},
   "source": [
    "<div class=\"callout\"> Just type the instance name to display useful information like orders, valid pixels, area, etc.\n",
    "</div>"
   ]
  },
  {
   "cell_type": "code",
   "execution_count": 18,
   "id": "0a54fff7-e2e1-452d-b839-94656b31a6ee",
   "metadata": {
    "execution": {
     "iopub.execute_input": "2025-09-15T18:50:55.428274Z",
     "iopub.status.busy": "2025-09-15T18:50:55.427989Z",
     "iopub.status.idle": "2025-09-15T18:50:55.431991Z",
     "shell.execute_reply": "2025-09-15T18:50:55.431618Z",
     "shell.execute_reply.started": "2025-09-15T18:50:55.428251Z"
    }
   },
   "outputs": [
    {
     "data": {
      "text/plain": [
       "propmask       : (ord/nside)cov=5/32   (ord/nside)sparse=12/4096  valid_pix=7991526  area=1637.51 deg² pix_size=  51.5\""
      ]
     },
     "execution_count": 18,
     "metadata": {},
     "output_type": "execute_result"
    }
   ],
   "source": [
    "mkp"
   ]
  },
  {
   "cell_type": "markdown",
   "id": "b7eaf931-395b-4963-ac6b-7de9ca47d57f",
   "metadata": {},
   "source": [
    "<div class=\"callout\">Lets check how it looks in the sky</div>"
   ]
  },
  {
   "cell_type": "code",
   "execution_count": 27,
   "id": "f395b957-026c-4d74-83f6-8cbb533fc31c",
   "metadata": {
    "execution": {
     "iopub.execute_input": "2025-09-15T19:00:34.534417Z",
     "iopub.status.busy": "2025-09-15T19:00:34.534124Z",
     "iopub.status.idle": "2025-09-15T19:00:34.923422Z",
     "shell.execute_reply": "2025-09-15T19:00:34.922859Z",
     "shell.execute_reply.started": "2025-09-15T19:00:34.534395Z"
    }
   },
   "outputs": [
    {
     "name": "stdout",
     "output_type": "stream",
     "text": [
      "Retrieving pixels...\n",
      "Found 7991526 pixels\n",
      "Creating display moc from pixels...\n",
      "MOC max_order is 12 --> degrading to 8...\n",
      "Drawing plot...\n"
     ]
    },
    {
     "data": {
      "image/png": "[encoded data removed]",
      "text/plain": [
       "<Figure size 700x400 with 1 Axes>"
      ]
     },
     "metadata": {},
     "output_type": "display_data"
    }
   ],
   "source": [
    "center = SkyCoord(280*u.deg, -15*u.deg)  ;  fov = 50*u.deg\n",
    "fig, ax, wcs = mkp.plot_moc(stage='propmask', center=center, fov=fov, figsize=[7,4], label='propmask', color='r')\n",
    "plt.legend();"
   ]
  },
  {
   "cell_type": "markdown",
   "id": "120d0691-0d0f-4181-a039-64f0390e4219",
   "metadata": {},
   "source": [
    "## 2. Define radius function and star query dictionary"
   ]
  },
  {
   "cell_type": "markdown",
   "id": "44a5f785-7f92-45ac-82ab-3475667fdc93",
   "metadata": {},
   "source": [
    "<div class=\"callout\">Now, we define the <span style='font-weight:bold'>radius function</span> that will assign an exclusion radius around the stars. This function, which will passed to SkyKatana, can be completely customized with the only requirement that it must take an input dataframe (e.g. with star magnitudes) and add a \"radius\" column (in deg) for each row element. In the toy example below, <span class='met'>radfunction()</span> can be customized according to completeness level and desired band.</div>"
   ]
  },
  {
   "cell_type": "code",
   "execution_count": 28,
   "id": "c55ef3a8-6e23-4e26-bbb6-50976c113b59",
   "metadata": {
    "execution": {
     "iopub.execute_input": "2025-09-15T19:18:08.380210Z",
     "iopub.status.busy": "2025-09-15T19:18:08.379779Z",
     "iopub.status.idle": "2025-09-15T19:18:08.385671Z",
     "shell.execute_reply": "2025-09-15T19:18:08.384841Z",
     "shell.execute_reply.started": "2025-09-15T19:18:08.380174Z"
    }
   },
   "outputs": [],
   "source": [
    "def radfunction(df: pd.DataFrame, **kwargs):\n",
    "    mag = 'phot_g_mean_mag'                          # define magnitude to use\n",
    "    band = kwargs.get('band', 'r')                   # extract band\n",
    "    completeness = kwargs.get('completeness', 0.85)  # extract completeness level\n",
    "    if band == 'r':\n",
    "        if completeness==0.85:\n",
    "            nconst, alpha = (1234.7,-0.28)  # normalization constant and exponential slope alpha\n",
    "            magcut        =  17.19          # magnitude cutoff above which stars get a fixed faint_radius\n",
    "            faintrad      =  10.2           # faint radius [arcsec]\n",
    "        elif completeness==0.90:\n",
    "            nconst, alpha = (1318.6,-0.28)  # normalization constant and exponential slope alpha\n",
    "            magcut        =  17.24          # magnitude cutoff above which stars get a fixed faint_radius\n",
    "            faintrad      =  10.8           # faint radius [arcsec]\n",
    "    # Set radius\n",
    "    df['radius'] = np.where(df[mag] <= magcut, nconst*np.exp(alpha*df[mag])/3600., faintrad/3600.)"
   ]
  },
  {
   "cell_type": "markdown",
   "id": "c7d3b291-902d-46d4-82da-045972cada43",
   "metadata": {},
   "source": [
    "<div class='callout'>Now we define the <span style='font-weight:bold'>star query dictionary</span>. This controls where and which stars will be queried, as well as some performance parameters to keep memory usage under control. If the area searched is very large, Skykatana can break it into chunks that are queried, processed and coadded at the end, thus enabling procesing of thousands of deg<sup>2</sup>.</div>"
   ]
  },
  {
   "cell_type": "code",
   "execution_count": 29,
   "id": "6ae1cab6-d660-4c3c-846f-44745cf3647f",
   "metadata": {
    "execution": {
     "iopub.execute_input": "2025-09-15T19:18:10.826379Z",
     "iopub.status.busy": "2025-09-15T19:18:10.826101Z",
     "iopub.status.idle": "2025-09-15T19:18:10.831500Z",
     "shell.execute_reply": "2025-09-15T19:18:10.830644Z",
     "shell.execute_reply.started": "2025-09-15T19:18:10.826359Z"
    }
   },
   "outputs": [],
   "source": [
    "starq = {'search_stage': mkp.propmask,                 # The stage where we want to retrieve stars\n",
    "         'cat':\"https://data.lsdb.io/hats/gaia_dr3\",   # URL of HATS catalog, e.g. for Gaia\n",
    "         'columns':['ra','dec','phot_g_mean_mag'],     # Columns to retrieve from it\n",
    "         'gaia_gmag_lims':[7,20],                      # G_band magnitude limits\n",
    "         'radfunction': partial(radfunction, completeness=0.85, band='r'),  # Star radius function. Must be wrapped with partial()\n",
    "         'avoid_mw': True,                             # Avoid Milky Way plane & bulge\n",
    "         'b0_deg': 15.,                                # Mikly Way plane zone of exclusion from -b to b (deg)\n",
    "         'bulge_a_deg': 25.,                           # Milky Way bulge semimajor axis length (deg)  \n",
    "         'bulge_b_deg': 20.,                           # Milky Way bulge semiminor axis length (deg)\n",
    "         'max_area_single': 700.,                         # Optional - max area to make in a single query\n",
    "         'target_chunk_area': 700.,                       # Optional - target area of chunks that the search_stage is splitted into\n",
    "         'coarse_order_bfs': 5                            # Optional - coarse order to perform chunking\n",
    "         }"
   ]
  },
  {
   "cell_type": "markdown",
   "id": "a36ea37f-b6fa-4d6d-a202-e32058438d1c",
   "metadata": {},
   "source": [
    "<div class='callout'>Large-scale queries might accidentally go deep into the Milky Way plane and bulge, stressing database systems and leading memory issues or failed searches. To prevent this, when <span class='icode'>avoid_mw=True</span> SkyKatana will create a MOC map of the galaxy following the given parameters for the plane and (elliptical) bulge, and subtract if <span style='font-weight:bold'>before</span> searching for stars. In addition, that galaxy mask will get stored in the <span class='st'>mwmask</span> in case you need to combine it with other stages.</div>"
   ]
  },
  {
   "cell_type": "markdown",
   "id": "fd10f9cd-4d4c-4124-98b4-231586379b34",
   "metadata": {},
   "source": [
    "<div class=\"note\">Note that the stars returned will always follow the search stage minus the galaxy mask, if chosen so, but the search stage in the pipeline remains untouched. Subtract <span class='st'>mwmask</span> from that or any other stage, when needed.</div>"
   ]
  },
  {
   "cell_type": "markdown",
   "id": "d3c42da4-8cf2-4ed3-8203-00a82a26d832",
   "metadata": {},
   "source": [
    "## 3. Search stars, construct its mask and plot"
   ]
  },
  {
   "cell_type": "markdown",
   "id": "2f1d558d-ce03-43e1-8975-0847c0ecc72a",
   "metadata": {},
   "source": [
    "<div class='callout'>We have everything ready. Just choose the orders for pixelization and run</div>"
   ]
  },
  {
   "cell_type": "code",
   "execution_count": null,
   "id": "e7e8025a-a695-4282-ad13-37e2ed3be13e",
   "metadata": {},
   "outputs": [],
   "source": [
    "mkp.build_star_mask_online(starq=starq, order_star=15, order_cov=5, n_threads=1);"
   ]
  },
  {
   "cell_type": "markdown",
   "id": "6a9005f3-dde8-4224-bb8e-fe45a6c599bf",
   "metadata": {},
   "source": [
    "## 4. Build methods: from geometry to masks"
   ]
  },
  {
   "cell_type": "markdown",
   "id": "69dc898f-66ab-4188-8de0-11a084b08627",
   "metadata": {},
   "source": [
    "<div class=\"callout\"><span class=\"sc\">Skykatana</span> has methods to pixelate and generate masks from a variety of geometric shapes</div>"
   ]
  },
  {
   "cell_type": "code",
   "execution_count": null,
   "id": "fff8dd91-b799-4403-a7de-ae5abb1a060e",
   "metadata": {},
   "outputs": [],
   "source": [
    "mkp = SkyMaskPipe(order_out=15)\n",
    "mkp.build_foot_mask(sources=lsdb.open_catalog(HATSCAT), mapping=False);       # from individual point sources\n",
    "mkp.build_prop_mask(prop_maps=PROPMAP_FILE,thresholds=1.3,comparisons='lt');  # from healsparse property maps\n",
    "mkp.build_circ_mask(data=STARS_REGIONS, fmt='parquet');                       # from circular regions\n",
    "mkp.build_box_mask(data=BOX_STARS_REGIONS, fmt='parquet');                    # from box regions\n",
    "mkp.build_ellip_mask(data=ELLIP_REGIONS, fmt='ascii');                        # from elliptical regions\n",
    "mkp.build_poly_mask(data=USER_POLY_REGIONS, fmt='ascii');                     # from quadrangular sky polygons\n",
    "mkp.build_zone_mask(data=USER_ZONE_REGIONS, fmt='ascii');                     # from zones delimited by ra-dec boundaries\n",
    "mkp.build_patch_mask(patchfile=PATCH_FILE, qafile=QA_FILE);                   # from a sets of patches with custom filtering"
   ]
  },
  {
   "cell_type": "markdown",
   "id": "7501ec9a-6b0a-4e0f-8272-4f602c77bfa3",
   "metadata": {},
   "source": [
    "<div class=\"callout\">Each the these <span style='font-family: monospace; font-weight:bold;'>build_</span> methods store its calling arguments in dictionaries under <span style='font-family: monospace;font-weight:bold;'>_params</span>. In this way, all the metadata used to create masks is saved in the pipeline and kept for record</div>"
   ]
  },
  {
   "cell_type": "code",
   "execution_count": 9,
   "id": "9492f9d4-312b-44b2-8260-cc7b8f5cc9ac",
   "metadata": {},
   "outputs": [
    {
     "data": {
      "text/plain": [
       "{'sources': '../../skykatana_example_data/example_data/hscx_minispring_gal',\n",
       " 'order_foot': 13,\n",
       " 'order_cov': 4,\n",
       " 'columns': ('ra', 'dec'),\n",
       " 'remove_isopixels': False,\n",
       " 'erode_borders': False,\n",
       " 'bit_packing': True,\n",
       " 'pixels': np.int64(1353948),\n",
       " 'area_deg2': np.float64(69.35790724770318)}"
      ]
     },
     "execution_count": 9,
     "metadata": {},
     "output_type": "execute_result"
    }
   ],
   "source": [
    "mkp._params['footmask']"
   ]
  },
  {
   "cell_type": "markdown",
   "id": "b30041c3-3f5e-4552-9d28-99e7ab6cb300",
   "metadata": {},
   "source": [
    "<div class=\"callout\">All <span style='font-family: monospace; font-weight:bold;'>build_</span> methods create a stage of a given name, e.g. <span class='st'>footmask</span>, <span class='st'>propmask</span>, <span class='st'>circmask</span>, etc. But you can add your own stages with any name or origin as long as they are healsparse boolean masks</div>"
   ]
  },
  {
   "cell_type": "markdown",
   "id": "ebfaccdc-741f-4c24-b758-b8a7ba105809",
   "metadata": {},
   "source": [
    "<div class='note'>Note that while any name is valid for a stage, only stages ending with \"mask\" show up when printing, e.g cirrusmask, satellitemask, nebulamask</div>"
   ]
  },
  {
   "cell_type": "code",
   "execution_count": null,
   "id": "d13d9136-018c-4401-8341-7ed10115089b",
   "metadata": {},
   "outputs": [],
   "source": [
    "# Create a bogus cirrus mask and add it to the pipeline\n",
    "import healsparse as hsp, numpy as np\n",
    "from mocpy import MOC\n",
    "from astropy.coordinates import SkyCoord\n",
    "moc = MOC.from_zone(SkyCoord([[220, -5], [222, 0.3]], unit=\"deg\"), max_depth=15)\n",
    "cirrus = hsp.HealSparseMap.make_empty(2**4, 2**15, dtype=np.bool_)\n",
    "pixels = moc.flatten().astype(np.int64)\n",
    "cirrus.update_values_pix(pixels, True)\n",
    "cirrusmask = cirrus.as_bit_packed_map()\n",
    "\n",
    "mkp.cirrusmask = cirrusmask"
   ]
  },
  {
   "cell_type": "markdown",
   "id": "088d641d-016b-4e5c-9b5b-c11eea3a9d45",
   "metadata": {},
   "source": [
    "<br>\n",
    "<div class=\"callout\">Then you can work, combine and plot as with any other stage</div>"
   ]
  },
  {
   "cell_type": "code",
   "execution_count": null,
   "id": "f2f559cb-bd12-47f8-b3c3-deb1fb6a0271",
   "metadata": {},
   "outputs": [],
   "source": [
    "mkp.combine(positive=['footmask','patchmask','cirrusmask'], negative=['circmask','boxmask','ellipmask']);"
   ]
  },
  {
   "cell_type": "markdown",
   "id": "c78b76df-beb6-4446-a6b2-994e112b25ed",
   "metadata": {},
   "source": [
    "**Skykatana has methods to create custom bright star masks over any stage or healsparse map. The code can query large HATS catalog on-demand such as GAIA, add star radii with user-defined functions, pixelize the corresponding circles, and return a healsparse mask. It is also highly adapted to run in the Rubin Science Plataform (RSP) and low memory environments**"
   ]
  },
  {
   "cell_type": "markdown",
   "id": "6045c85b-fb87-4c07-b888-cd77b1e61154",
   "metadata": {},
   "source": [
    "-------------------\n",
    "**STEP 1 : define star radius function and query dictionary**"
   ]
  },
  {
   "cell_type": "code",
   "execution_count": null,
   "id": "d020eabd-f63d-4034-b862-4884799cf28a",
   "metadata": {},
   "outputs": [],
   "source": []
  },
  {
   "cell_type": "code",
   "execution_count": null,
   "id": "d3f7665e-33b1-4856-8006-5af6555e83d3",
   "metadata": {},
   "outputs": [],
   "source": [
    "from functools import partial\n",
    "\n",
    "# This function determines the radius of stars that will be masked. It can be completely customized according to band, \n",
    "# completeness level, or any other parameter. The only requirement is that it must take an input df (e.g. with \n",
    "# star magnitudes) and add a \"radius\" column (in deg)\n",
    "\n",
    "def radfunction(df: pd.DataFrame, **kwargs):\n",
    "    mag = 'phot_g_mean_mag'                          # define magnitude to use\n",
    "    band = kwargs.get('band', 'r')                   # extract band\n",
    "    completeness = kwargs.get('completeness', 0.85)  # extract completeness level\n",
    "    if band == 'r':\n",
    "        if completeness==0.85:\n",
    "            nconst, alpha = (7538.,-0.38)  # normalization constant and exponential slope alpha\n",
    "            magcut        =  17.           # magnitude cutoff above which stars get a fixed faint_radius\n",
    "            faintrad      =  11.8          # faint radius [arcsec]\n",
    "        elif completeness==0.80:\n",
    "            pass\n",
    "    # Set radius\n",
    "    df['radius'] = np.where(df[mag] <= magcut, nconst*np.exp(alpha*df[mag])/3600., faintrad/3600.)\n",
    "\n",
    "# Star query dictionary. This controls where and which stars will be queried, as well as some performance\n",
    "# parameters to keep memory usage under control. If the area searched is very large, Skykatana can break\n",
    "# it into chunks that are queried, processed and coadded at the end, enabling procesing of thousands of sq degrees\n",
    "\n",
    "starq = {'search_stage': mkp.mask,                       # The stage where we want to retrieve stars\n",
    "         'cat':\"https://data.lsdb.io/hats/gaia_dr3\",     # URL of HATS catalog, e.g. for Gaia\n",
    "         'columns':['ra','dec','phot_g_mean_mag','b'],   # Columns to retrieve from it\n",
    "         'gaia_gmag_lims':[7,19],                        # G_band magnitude limits\n",
    "         'gaia_b_lims':[-20,20],                         # Galactic latitude range to exclude the MW disk\n",
    "         'radfunction': partial(radfunction, completeness=0.85, band='r'),  # Star radius function. Must be wrapped with partial()\n",
    "         'max_area_single': 1000.,                       # Optional - max area to make in a single query\n",
    "         'target_chunk_area': 1000.,                     # Optional - target area of chuncks that the search_stage is splitted\n",
    "         'coarse_order_bfs': 5                           # Optional - coarse order to perform chunking\n",
    "         }"
   ]
  },
  {
   "cell_type": "code",
   "execution_count": null,
   "id": "06735b15-b800-4733-b974-eb2a5c595661",
   "metadata": {},
   "outputs": [],
   "source": []
  },
  {
   "cell_type": "code",
   "execution_count": null,
   "id": "1e9d0c8e-d7db-426f-8a26-e313b72e28a9",
   "metadata": {},
   "outputs": [],
   "source": []
  },
  {
   "cell_type": "markdown",
   "id": "64230e33-c01b-49e7-b570-b5d9bde74fdf",
   "metadata": {},
   "source": [
    "-------------------\n",
    "**STEP 2 : set up a dask client**"
   ]
  },
  {
   "cell_type": "code",
   "execution_count": null,
   "id": "e3e5fce7-3f4c-470f-adf2-8b2323940d39",
   "metadata": {},
   "outputs": [],
   "source": [
    "from dask.distributed import Client\n",
    "client = Client(n_workers=2, threads_per_worker=1, memory_limit=\"8GiB\")"
   ]
  },
  {
   "cell_type": "markdown",
   "id": "006fde95-9d1d-4315-b944-484cac5bb6cb",
   "metadata": {},
   "source": [
    "-------------------\n",
    "**STEP 3 : get stars and build the mask**"
   ]
  },
  {
   "cell_type": "code",
   "execution_count": null,
   "id": "6484bafb-a155-426f-81eb-7791f5838394",
   "metadata": {},
   "outputs": [],
   "source": [
    "mkp.build_star_mask_online(starq=starq)"
   ]
  },
  {
   "cell_type": "markdown",
   "id": "20611eaf-5d0c-487c-ba18-fe160c229eab",
   "metadata": {},
   "source": [
    "<br>\n",
    "\n",
    "**Now we have a new starmask stage !**"
   ]
  },
  {
   "cell_type": "code",
   "execution_count": 27,
   "id": "861b9775-3b83-42fb-821d-c8e7ce9b0fdb",
   "metadata": {},
   "outputs": [
    {
     "data": {
      "text/plain": [
       "footmask       : (ord/nside)cov=4/16   (ord/nside)sparse=13/8192  valid_pix=1353948  area= 69.36 deg² pix_size=  25.8\"\n",
       "patchmask      : (ord/nside)cov=4/16   (ord/nside)sparse=13/8192  valid_pix=1062650  area= 54.44 deg² pix_size=  25.8\"\n",
       "circmask       : (ord/nside)cov=4/16   (ord/nside)sparse=15/32768 valid_pix=3834656  area= 12.28 deg² pix_size=   6.4\"\n",
       "boxmask        : (ord/nside)cov=4/16   (ord/nside)sparse=15/32768 valid_pix=1737887  area=  5.56 deg² pix_size=   6.4\"\n",
       "ellipmask      : (ord/nside)cov=4/16   (ord/nside)sparse=15/32768 valid_pix=169105   area=  0.54 deg² pix_size=   6.4\""
      ]
     },
     "execution_count": 27,
     "metadata": {},
     "output_type": "execute_result"
    }
   ],
   "source": [
    "mkp"
   ]
  },
  {
   "cell_type": "code",
   "execution_count": null,
   "id": "12dbb32b-b5fd-4963-9722-bf18eb4f12e0",
   "metadata": {},
   "outputs": [],
   "source": []
  },
  {
   "cell_type": "code",
   "execution_count": null,
   "id": "4de7e085-f096-4345-b85e-d454282fe8f9",
   "metadata": {},
   "outputs": [],
   "source": []
  },
  {
   "cell_type": "code",
   "execution_count": null,
   "id": "ddd8a86b-9374-47cf-8486-47a5a4856cdc",
   "metadata": {},
   "outputs": [],
   "source": []
  },
  {
   "cell_type": "code",
   "execution_count": null,
   "id": "0623d684-742b-4a62-9fbb-4fd3852ad867",
   "metadata": {},
   "outputs": [],
   "source": []
  },
  {
   "cell_type": "code",
   "execution_count": null,
   "id": "f0ff3107-3006-4857-8f86-21b5cc42587a",
   "metadata": {},
   "outputs": [],
   "source": []
  },
  {
   "cell_type": "code",
   "execution_count": null,
   "id": "82f023fb-a7c5-4810-b569-2ae565b2d5c4",
   "metadata": {},
   "outputs": [],
   "source": []
  },
  {
   "cell_type": "code",
   "execution_count": null,
   "id": "711a19c7-cab2-4e88-be43-ad3b59fd6151",
   "metadata": {},
   "outputs": [],
   "source": []
  }
 ],
 "metadata": {
  "kernelspec": {
   "display_name": "Python 3 (ipykernel)",
   "language": "python",
   "name": "python3"
  },
  "language_info": {
   "codemirror_mode": {
    "name": "ipython",
    "version": 3
   },
   "file_extension": ".py",
   "mimetype": "text/x-python",
   "name": "python",
   "nbconvert_exporter": "python",
   "pygments_lexer": "ipython3",
   "version": "3.13.5"
  }
 },
 "nbformat": 4,
 "nbformat_minor": 5
}
